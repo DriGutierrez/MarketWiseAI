{
  "nbformat": 4,
  "nbformat_minor": 0,
  "metadata": {
    "colab": {
      "provenance": [],
      "include_colab_link": true
    },
    "kernelspec": {
      "name": "python3",
      "display_name": "Python 3"
    },
    "language_info": {
      "name": "python"
    }
  },
  "cells": [
    {
      "cell_type": "markdown",
      "metadata": {
        "id": "view-in-github",
        "colab_type": "text"
      },
      "source": [
        "<a href=\"https://colab.research.google.com/github/DriGutierrez/MarketWiseAI/blob/main/Projeto_MarketWiseAI_Imers%C3%A3o_IA_Alura_%2B_Google_Gemini_Aula_05_Agentes_(Final).ipynb\" target=\"_parent\"><img src=\"https://colab.research.google.com/assets/colab-badge.svg\" alt=\"Open In Colab\"/></a>"
      ]
    },
    {
      "cell_type": "code",
      "source": [
        "%pip -q install google-genai"
      ],
      "metadata": {
        "id": "UCCbECexLk_h"
      },
      "execution_count": 1,
      "outputs": []
    },
    {
      "cell_type": "code",
      "source": [
        "# Configura a API Key do Google Gemini\n",
        "\n",
        "import os\n",
        "from google.colab import userdata\n",
        "\n",
        "os.environ[\"GOOGLE_API_KEY\"] = userdata.get('GOOGLE_API_KEY')"
      ],
      "metadata": {
        "id": "NfCqHo1tLk8P"
      },
      "execution_count": 17,
      "outputs": []
    },
    {
      "cell_type": "code",
      "source": [
        "# Configura o cliente da SDK do Gemini\n",
        "\n",
        "from google import genai\n",
        "import os # Importa o módulo os para acessar variáveis de ambiente\n",
        "\n",
        "# Recupera a chave da API da variável de ambiente e a armazena em uma variável Python\n",
        "GOOGLE_API_KEY = os.environ.get('GOOGLE_API_KEY')\n",
        "\n",
        "# Use o argumento api_key para passar a chave\n",
        "client = genai.Client(api_key=GOOGLE_API_KEY)\n",
        "\n",
        "MODEL_ID = \"gemini-2.0-flash\""
      ],
      "metadata": {
        "id": "bV4w0H5TLk5g"
      },
      "execution_count": 18,
      "outputs": []
    },
    {
      "cell_type": "code",
      "source": [
        "# Pergunta ao Gemini uma informação mais recente que seu conhecimento\n",
        "\n",
        "from IPython.display import HTML, Markdown\n",
        "\n",
        "# Perguntar pro modelo qual o nome do novo papa ###############################################\n",
        "resposta = client.models.generate_content(model=MODEL_ID, contents='Qual o nome do novo papa?',)\n",
        "\n",
        "# Exibe a resposta na tela\n",
        "display(Markdown(f\"Resposta:\\n {resposta.text}\"))"
      ],
      "metadata": {
        "colab": {
          "base_uri": "https://localhost:8080/",
          "height": 46
        },
        "id": "Y9cBAz02xZt9",
        "outputId": "38825dd6-ff01-477e-cc52-89cbab9513f9"
      },
      "execution_count": 22,
      "outputs": [
        {
          "output_type": "display_data",
          "data": {
            "text/plain": [
              "<IPython.core.display.Markdown object>"
            ],
            "text/markdown": "Resposta:\n O Papa atual é o Papa Francisco. Ele foi eleito em 13 de março de 2013.\n"
          },
          "metadata": {}
        }
      ]
    },
    {
      "cell_type": "code",
      "source": [
        "# Pergunta ao Gemini sobre o novo Papa UTILIZANDO A BUSCA DO GOOGLE\n",
        "\n",
        "response_busca = client.models.generate_content(model=MODEL_ID, contents='Qual o nome do novo papa?', config={\"tools\": [{\"google_search\": {}}]})\n",
        "\n",
        "# Exibe a resposta com a busca na tela\n",
        "display(Markdown(f\"Resposta (com busca):\\n {response_busca.text}\"))\n",
        "\n",
        "# Exibe informações sobre a busca (opcional)\n",
        "print(f\"Busca realizada: {response_busca.candidates[0].grounding_metadata.web_search_queries}\")\n",
        "print(f\"Páginas utilizadas na resposta: {', '.join([site.web.title for site in response_busca.candidates[0].grounding_metadata.grounding_chunks])}\")"
      ],
      "metadata": {
        "colab": {
          "base_uri": "https://localhost:8080/",
          "height": 81
        },
        "id": "lc2JPA92xbnp",
        "outputId": "7a82897c-7a4d-41c8-f325-744953187545"
      },
      "execution_count": 24,
      "outputs": [
        {
          "output_type": "display_data",
          "data": {
            "text/plain": [
              "<IPython.core.display.Markdown object>"
            ],
            "text/markdown": "Resposta (com busca):\n O novo papa é o Cardeal Robert Prevost, que adotou o nome de Leão XIV. Ele foi eleito em 8 de maio de 2025.\n"
          },
          "metadata": {}
        },
        {
          "output_type": "stream",
          "name": "stdout",
          "text": [
            "Busca realizada: ['novo papa']\n",
            "Páginas utilizadas na resposta: youtube.com, forbes.com.br, youtube.com, youtube.com, youtube.com\n"
          ]
        }
      ]
    },
    {
      "cell_type": "code",
      "source": [
        "# Exibe a busca\n",
        "print(f\"Busca realizada: {response_busca.candidates[0].grounding_metadata.web_search_queries}\")\n",
        "# Exibe as URLs nas quais ele se baseou\n",
        "print(f\"Páginas utilizadas na resposta: {', '.join([site.web.title for site in response_busca.candidates[0].grounding_metadata.grounding_chunks])}\")\n",
        "print()\n",
        "display(HTML(response_busca.candidates[0].grounding_metadata.search_entry_point.rendered_content))"
      ],
      "metadata": {
        "colab": {
          "base_uri": "https://localhost:8080/",
          "height": 117
        },
        "id": "6Cg0KNJGMgC5",
        "outputId": "7f7c45ae-0d1b-417a-fafc-02e7e0b966c3"
      },
      "execution_count": 26,
      "outputs": [
        {
          "output_type": "stream",
          "name": "stdout",
          "text": [
            "Busca realizada: ['novo papa']\n",
            "Páginas utilizadas na resposta: youtube.com, forbes.com.br, youtube.com, youtube.com, youtube.com\n",
            "\n"
          ]
        },
        {
          "output_type": "display_data",
          "data": {
            "text/plain": [
              "<IPython.core.display.HTML object>"
            ],
            "text/html": [
              "<style>\n",
              ".container {\n",
              "  align-items: center;\n",
              "  border-radius: 8px;\n",
              "  display: flex;\n",
              "  font-family: Google Sans, Roboto, sans-serif;\n",
              "  font-size: 14px;\n",
              "  line-height: 20px;\n",
              "  padding: 8px 12px;\n",
              "}\n",
              ".chip {\n",
              "  display: inline-block;\n",
              "  border: solid 1px;\n",
              "  border-radius: 16px;\n",
              "  min-width: 14px;\n",
              "  padding: 5px 16px;\n",
              "  text-align: center;\n",
              "  user-select: none;\n",
              "  margin: 0 8px;\n",
              "  -webkit-tap-highlight-color: transparent;\n",
              "}\n",
              ".carousel {\n",
              "  overflow: auto;\n",
              "  scrollbar-width: none;\n",
              "  white-space: nowrap;\n",
              "  margin-right: -12px;\n",
              "}\n",
              ".headline {\n",
              "  display: flex;\n",
              "  margin-right: 4px;\n",
              "}\n",
              ".gradient-container {\n",
              "  position: relative;\n",
              "}\n",
              ".gradient {\n",
              "  position: absolute;\n",
              "  transform: translate(3px, -9px);\n",
              "  height: 36px;\n",
              "  width: 9px;\n",
              "}\n",
              "@media (prefers-color-scheme: light) {\n",
              "  .container {\n",
              "    background-color: #fafafa;\n",
              "    box-shadow: 0 0 0 1px #0000000f;\n",
              "  }\n",
              "  .headline-label {\n",
              "    color: #1f1f1f;\n",
              "  }\n",
              "  .chip {\n",
              "    background-color: #ffffff;\n",
              "    border-color: #d2d2d2;\n",
              "    color: #5e5e5e;\n",
              "    text-decoration: none;\n",
              "  }\n",
              "  .chip:hover {\n",
              "    background-color: #f2f2f2;\n",
              "  }\n",
              "  .chip:focus {\n",
              "    background-color: #f2f2f2;\n",
              "  }\n",
              "  .chip:active {\n",
              "    background-color: #d8d8d8;\n",
              "    border-color: #b6b6b6;\n",
              "  }\n",
              "  .logo-dark {\n",
              "    display: none;\n",
              "  }\n",
              "  .gradient {\n",
              "    background: linear-gradient(90deg, #fafafa 15%, #fafafa00 100%);\n",
              "  }\n",
              "}\n",
              "@media (prefers-color-scheme: dark) {\n",
              "  .container {\n",
              "    background-color: #1f1f1f;\n",
              "    box-shadow: 0 0 0 1px #ffffff26;\n",
              "  }\n",
              "  .headline-label {\n",
              "    color: #fff;\n",
              "  }\n",
              "  .chip {\n",
              "    background-color: #2c2c2c;\n",
              "    border-color: #3c4043;\n",
              "    color: #fff;\n",
              "    text-decoration: none;\n",
              "  }\n",
              "  .chip:hover {\n",
              "    background-color: #353536;\n",
              "  }\n",
              "  .chip:focus {\n",
              "    background-color: #353536;\n",
              "  }\n",
              "  .chip:active {\n",
              "    background-color: #464849;\n",
              "    border-color: #53575b;\n",
              "  }\n",
              "  .logo-light {\n",
              "    display: none;\n",
              "  }\n",
              "  .gradient {\n",
              "    background: linear-gradient(90deg, #1f1f1f 15%, #1f1f1f00 100%);\n",
              "  }\n",
              "}\n",
              "</style>\n",
              "<div class=\"container\">\n",
              "  <div class=\"headline\">\n",
              "    <svg class=\"logo-light\" width=\"18\" height=\"18\" viewBox=\"9 9 35 35\" fill=\"none\" xmlns=\"http://www.w3.org/2000/svg\">\n",
              "      <path fill-rule=\"evenodd\" clip-rule=\"evenodd\" d=\"M42.8622 27.0064C42.8622 25.7839 42.7525 24.6084 42.5487 23.4799H26.3109V30.1568H35.5897C35.1821 32.3041 33.9596 34.1222 32.1258 35.3448V39.6864H37.7213C40.9814 36.677 42.8622 32.2571 42.8622 27.0064V27.0064Z\" fill=\"#4285F4\"/>\n",
              "      <path fill-rule=\"evenodd\" clip-rule=\"evenodd\" d=\"M26.3109 43.8555C30.9659 43.8555 34.8687 42.3195 37.7213 39.6863L32.1258 35.3447C30.5898 36.3792 28.6306 37.0061 26.3109 37.0061C21.8282 37.0061 18.0195 33.9811 16.6559 29.906H10.9194V34.3573C13.7563 39.9841 19.5712 43.8555 26.3109 43.8555V43.8555Z\" fill=\"#34A853\"/>\n",
              "      <path fill-rule=\"evenodd\" clip-rule=\"evenodd\" d=\"M16.6559 29.8904C16.3111 28.8559 16.1074 27.7588 16.1074 26.6146C16.1074 25.4704 16.3111 24.3733 16.6559 23.3388V18.8875H10.9194C9.74388 21.2072 9.06992 23.8247 9.06992 26.6146C9.06992 29.4045 9.74388 32.022 10.9194 34.3417L15.3864 30.8621L16.6559 29.8904V29.8904Z\" fill=\"#FBBC05\"/>\n",
              "      <path fill-rule=\"evenodd\" clip-rule=\"evenodd\" d=\"M26.3109 16.2386C28.85 16.2386 31.107 17.1164 32.9095 18.8091L37.8466 13.8719C34.853 11.082 30.9659 9.3736 26.3109 9.3736C19.5712 9.3736 13.7563 13.245 10.9194 18.8875L16.6559 23.3388C18.0195 19.2636 21.8282 16.2386 26.3109 16.2386V16.2386Z\" fill=\"#EA4335\"/>\n",
              "    </svg>\n",
              "    <svg class=\"logo-dark\" width=\"18\" height=\"18\" viewBox=\"0 0 48 48\" xmlns=\"http://www.w3.org/2000/svg\">\n",
              "      <circle cx=\"24\" cy=\"23\" fill=\"#FFF\" r=\"22\"/>\n",
              "      <path d=\"M33.76 34.26c2.75-2.56 4.49-6.37 4.49-11.26 0-.89-.08-1.84-.29-3H24.01v5.99h8.03c-.4 2.02-1.5 3.56-3.07 4.56v.75l3.91 2.97h.88z\" fill=\"#4285F4\"/>\n",
              "      <path d=\"M15.58 25.77A8.845 8.845 0 0 0 24 31.86c1.92 0 3.62-.46 4.97-1.31l4.79 3.71C31.14 36.7 27.65 38 24 38c-5.93 0-11.01-3.4-13.45-8.36l.17-1.01 4.06-2.85h.8z\" fill=\"#34A853\"/>\n",
              "      <path d=\"M15.59 20.21a8.864 8.864 0 0 0 0 5.58l-5.03 3.86c-.98-2-1.53-4.25-1.53-6.64 0-2.39.55-4.64 1.53-6.64l1-.22 3.81 2.98.22 1.08z\" fill=\"#FBBC05\"/>\n",
              "      <path d=\"M24 14.14c2.11 0 4.02.75 5.52 1.98l4.36-4.36C31.22 9.43 27.81 8 24 8c-5.93 0-11.01 3.4-13.45 8.36l5.03 3.85A8.86 8.86 0 0 1 24 14.14z\" fill=\"#EA4335\"/>\n",
              "    </svg>\n",
              "    <div class=\"gradient-container\"><div class=\"gradient\"></div></div>\n",
              "  </div>\n",
              "  <div class=\"carousel\">\n",
              "    <a class=\"chip\" href=\"https://vertexaisearch.cloud.google.com/grounding-api-redirect/AbF9wXGogZVZ3AS0Y4u-kaj2jYl2TcCWLK9vdzW_AYH4Udz4ohFyCEQTaKm8HVz4Ehhm7jVusaWmy2Pco1R4UrQlKM8BmXSmGobZn2M-VGVqrS_UyJgym4hrIaFiRExon3MWTfMs-oWPYiYmy2GSEBzMai-Qxw1WfxMAQNFuBOSsKoiWgklkv9sFT9ZzHI75\">novo papa</a>\n",
              "  </div>\n",
              "</div>\n"
            ]
          },
          "metadata": {}
        }
      ]
    },
    {
      "cell_type": "code",
      "source": [
        "# Instalar Framework de agentes do Google ################################################\n",
        "!pip install -q google-adk"
      ],
      "metadata": {
        "colab": {
          "base_uri": "https://localhost:8080/"
        },
        "id": "a1eRPalxEnj7",
        "outputId": "939cc769-aba9-41a4-cbb4-f47dd1d9a974"
      },
      "execution_count": 27,
      "outputs": [
        {
          "output_type": "stream",
          "name": "stdout",
          "text": [
            "\u001b[?25l   \u001b[90m━━━━━━━━━━━━━━━━━━━━━━━━━━━━━━━━━━━━━━━━\u001b[0m \u001b[32m0.0/1.2 MB\u001b[0m \u001b[31m?\u001b[0m eta \u001b[36m-:--:--\u001b[0m\r\u001b[2K   \u001b[91m━━━━━━━━━━━━━━\u001b[0m\u001b[91m╸\u001b[0m\u001b[90m━━━━━━━━━━━━━━━━━━━━━━━━━\u001b[0m \u001b[32m0.4/1.2 MB\u001b[0m \u001b[31m13.3 MB/s\u001b[0m eta \u001b[36m0:00:01\u001b[0m\r\u001b[2K   \u001b[91m━━━━━━━━━━━━━━━━━━━━━━━━━━━━━━━━━━━━━━━\u001b[0m\u001b[91m╸\u001b[0m \u001b[32m1.2/1.2 MB\u001b[0m \u001b[31m20.1 MB/s\u001b[0m eta \u001b[36m0:00:01\u001b[0m\r\u001b[2K   \u001b[90m━━━━━━━━━━━━━━━━━━━━━━━━━━━━━━━━━━━━━━━━\u001b[0m \u001b[32m1.2/1.2 MB\u001b[0m \u001b[31m14.7 MB/s\u001b[0m eta \u001b[36m0:00:00\u001b[0m\n",
            "\u001b[2K   \u001b[90m━━━━━━━━━━━━━━━━━━━━━━━━━━━━━━━━━━━━━━━━\u001b[0m \u001b[32m232.1/232.1 kB\u001b[0m \u001b[31m15.0 MB/s\u001b[0m eta \u001b[36m0:00:00\u001b[0m\n",
            "\u001b[2K   \u001b[90m━━━━━━━━━━━━━━━━━━━━━━━━━━━━━━━━━━━━━━━━\u001b[0m \u001b[32m95.2/95.2 kB\u001b[0m \u001b[31m6.5 MB/s\u001b[0m eta \u001b[36m0:00:00\u001b[0m\n",
            "\u001b[2K   \u001b[90m━━━━━━━━━━━━━━━━━━━━━━━━━━━━━━━━━━━━━━━━\u001b[0m \u001b[32m217.1/217.1 kB\u001b[0m \u001b[31m13.1 MB/s\u001b[0m eta \u001b[36m0:00:00\u001b[0m\n",
            "\u001b[2K   \u001b[90m━━━━━━━━━━━━━━━━━━━━━━━━━━━━━━━━━━━━━━━━\u001b[0m \u001b[32m334.1/334.1 kB\u001b[0m \u001b[31m20.9 MB/s\u001b[0m eta \u001b[36m0:00:00\u001b[0m\n",
            "\u001b[2K   \u001b[90m━━━━━━━━━━━━━━━━━━━━━━━━━━━━━━━━━━━━━━━━\u001b[0m \u001b[32m125.1/125.1 kB\u001b[0m \u001b[31m9.6 MB/s\u001b[0m eta \u001b[36m0:00:00\u001b[0m\n",
            "\u001b[2K   \u001b[90m━━━━━━━━━━━━━━━━━━━━━━━━━━━━━━━━━━━━━━━━\u001b[0m \u001b[32m65.8/65.8 kB\u001b[0m \u001b[31m4.8 MB/s\u001b[0m eta \u001b[36m0:00:00\u001b[0m\n",
            "\u001b[2K   \u001b[90m━━━━━━━━━━━━━━━━━━━━━━━━━━━━━━━━━━━━━━━━\u001b[0m \u001b[32m119.0/119.0 kB\u001b[0m \u001b[31m8.6 MB/s\u001b[0m eta \u001b[36m0:00:00\u001b[0m\n",
            "\u001b[2K   \u001b[90m━━━━━━━━━━━━━━━━━━━━━━━━━━━━━━━━━━━━━━━━\u001b[0m \u001b[32m194.9/194.9 kB\u001b[0m \u001b[31m13.9 MB/s\u001b[0m eta \u001b[36m0:00:00\u001b[0m\n",
            "\u001b[2K   \u001b[90m━━━━━━━━━━━━━━━━━━━━━━━━━━━━━━━━━━━━━━━━\u001b[0m \u001b[32m62.5/62.5 kB\u001b[0m \u001b[31m4.6 MB/s\u001b[0m eta \u001b[36m0:00:00\u001b[0m\n",
            "\u001b[2K   \u001b[90m━━━━━━━━━━━━━━━━━━━━━━━━━━━━━━━━━━━━━━━━\u001b[0m \u001b[32m103.3/103.3 kB\u001b[0m \u001b[31m8.5 MB/s\u001b[0m eta \u001b[36m0:00:00\u001b[0m\n",
            "\u001b[2K   \u001b[90m━━━━━━━━━━━━━━━━━━━━━━━━━━━━━━━━━━━━━━━━\u001b[0m \u001b[32m44.4/44.4 kB\u001b[0m \u001b[31m3.1 MB/s\u001b[0m eta \u001b[36m0:00:00\u001b[0m\n",
            "\u001b[2K   \u001b[90m━━━━━━━━━━━━━━━━━━━━━━━━━━━━━━━━━━━━━━━━\u001b[0m \u001b[32m72.0/72.0 kB\u001b[0m \u001b[31m5.8 MB/s\u001b[0m eta \u001b[36m0:00:00\u001b[0m\n",
            "\u001b[?25h"
          ]
        }
      ]
    },
    {
      "cell_type": "code",
      "execution_count": 28,
      "metadata": {
        "id": "aePV2bdfDeoW"
      },
      "outputs": [],
      "source": [
        "from google.adk.agents import Agent\n",
        "from google.adk.runners import Runner\n",
        "from google.adk.sessions import InMemorySessionService\n",
        "from google.adk.tools import google_search\n",
        "from google.genai import types  # Para criar conteúdos (Content e Part)\n",
        "from datetime import date\n",
        "import textwrap # Para formatar melhor a saída de texto\n",
        "from IPython.display import display, Markdown # Para exibir texto formatado no Colab\n",
        "import requests # Para fazer requisições HTTP\n",
        "import warnings\n",
        "\n",
        "warnings.filterwarnings(\"ignore\")"
      ]
    },
    {
      "cell_type": "code",
      "source": [
        "# Função auxiliar que envia uma mensagem para um agente via Runner e retorna a resposta final\n",
        "def call_agent(agent: Agent, message_text: str) -> str:\n",
        "    # Cria um serviço de sessão em memória\n",
        "    session_service = InMemorySessionService()\n",
        "    # Cria uma nova sessão (você pode personalizar os IDs conforme necessário)\n",
        "    session = session_service.create_session(app_name=agent.name, user_id=\"user1\", session_id=\"session1\")\n",
        "    # Cria um Runner para o agente\n",
        "    runner = Runner(agent=agent, app_name=agent.name, session_service=session_service)\n",
        "    # Cria o conteúdo da mensagem de entrada\n",
        "    content = types.Content(role=\"user\", parts=[types.Part(text=message_text)])\n",
        "\n",
        "    final_response = \"\"\n",
        "    # Itera assincronamente pelos eventos retornados durante a execução do agente\n",
        "    for event in runner.run(user_id=\"user1\", session_id=\"session1\", new_message=content):\n",
        "        if event.is_final_response():\n",
        "          for part in event.content.parts:\n",
        "            if part.text is not None:\n",
        "              final_response += part.text\n",
        "              final_response += \"\\n\"\n",
        "    return final_response"
      ],
      "metadata": {
        "id": "_xP4lWhsS5ko"
      },
      "execution_count": 29,
      "outputs": []
    },
    {
      "cell_type": "code",
      "source": [
        "# Função auxiliar para exibir texto formatado em Markdown no Colab\n",
        "def to_markdown(text):\n",
        "  text = text.replace('•', '  *')\n",
        "  return Markdown(textwrap.indent(text, '> ', predicate=lambda _: True))"
      ],
      "metadata": {
        "id": "8dosiodaxfFR"
      },
      "execution_count": 30,
      "outputs": []
    },
    {
      "cell_type": "code",
      "source": [
        "# --- Configuração do Usuário ---\n",
        "concorrentes = [\n",
        "    \"NomeDoSeuPrincipalConcorrente1\",\n",
        "    \"NomeDeOutroConcorrenteRelevante\",\n",
        "    # Adicione mais concorrentes conforme necessário\n",
        "]\n",
        "\n",
        "topicos_tendencia = [\n",
        "    \"Tendências de marketing de luxo 2025\",\n",
        "    \"Inovações em eventos de alto padrão\",\n",
        "    # Adicione mais tópicos de tendência conforme necessário\n",
        "]\n",
        "\n",
        "publico_alvo = \"Empreendedores e profissionais de marketing de alto padrão\" # Descreva seu público-alvo principal\n",
        "\n",
        "fontes_especialistas = [\n",
        "    \"Publicações líderes em marketing de luxo\",\n",
        "    \"Principais influenciadores e especialistas em eventos exclusivos\",\n",
        "    # Adicione fontes de informação de especialistas relevantes para o seu setor\n",
        "]\n",
        "\n",
        "data_de_hoje = date.today().strftime(\"%d/%m/%Y\")"
      ],
      "metadata": {
        "id": "paLUyYFwNxCt"
      },
      "execution_count": 65,
      "outputs": []
    },
    {
      "cell_type": "code",
      "source": [
        "##########################################\n",
        "# --- Agente 1: Buscador de Tendências --- #\n",
        "##########################################\n",
        "def agente_buscador(concorrentes, topicos_tendencia, publico_alvo, fontes_especialistas, data_de_hoje):\n",
        "    buscador = Agent(\n",
        "        name=\"agente_buscador\",\n",
        "        model=\"gemini-2.0-flash\",\n",
        "        instruction=f\"\"\"\n",
        "        Você é um assistente de pesquisa avançado especializado em inteligência competitiva, análise de tendências e compreensão do público-alvo.\n",
        "        Sua tarefa é usar a ferramenta de busca do Google (google_search) para recuperar informações relevantes sobre:\n",
        "\n",
        "        1. As estratégias de marketing, eventos e comunicação dos seguintes concorrentes: {', '.join(concorrentes)}.\n",
        "        2. As últimas tendências e novidades relacionadas aos seguintes tópicos: {', '.join(topicos_tendencia)}, buscando insights de especialistas.\n",
        "        3. As principais necessidades, desejos, desafios e comportamentos online do público-alvo: {publico_alvo}.\n",
        "        4. As perspectivas e previsões de fontes de informação de especialistas relevantes: {', '.join(fontes_especialistas)}.\n",
        "\n",
        "        Foque em informações recentes (últimos meses) que possam fornecer insights sobre as abordagens dos concorrentes, as direções do mercado apontadas por especialistas e o que motiva o público-alvo.\n",
        "        Tente encontrar dados como campanhas recentes, lançamentos, posicionamento de marca, relatórios de tendências, artigos de especialistas e discussões sobre o público-alvo.\n",
        "        \"\"\",\n",
        "        description=\"Agente que busca informações abrangentes sobre concorrentes, tendências e público-alvo no Google\",\n",
        "        tools=[google_search]\n",
        "    )\n",
        "\n",
        "    entrada_do_agente_buscador = f\"\"\"\n",
        "    Concorrentes a serem pesquisados: {', '.join(concorrentes)}\n",
        "    Tópicos de tendência a serem pesquisados: {', '.join(topicos_tendencia)}\n",
        "    Informações sobre o público-alvo: {publico_alvo}\n",
        "    Fontes de informação de especialistas a serem consultadas: {', '.join(fontes_especialistas)}\n",
        "    Data de hoje: {data_de_hoje}\n",
        "    \"\"\"\n",
        "\n",
        "    resultados_busca = call_agent(buscador, entrada_do_agente_buscador)\n",
        "    return resultados_busca"
      ],
      "metadata": {
        "id": "o8bqIfi_DyH8"
      },
      "execution_count": 66,
      "outputs": []
    },
    {
      "cell_type": "code",
      "source": [
        "################################################\n",
        "# --- Agente 2: Planejador de Estratégias --- #\n",
        "################################################\n",
        "def agente_planejador(topicos_tendencia, resultados_busca, publico_alvo):\n",
        "    planejador = Agent(\n",
        "        name=\"agente_planejador\",\n",
        "        model=\"gemini-2.0-flash\",\n",
        "        instruction=f\"\"\"\n",
        "        Você é um analista de inteligência de mercado sênior, especializado em integrar diversas fontes de informação para gerar insights estratégicos.\n",
        "        Com base nos resultados da busca fornecidos, que contêm informações sobre concorrentes, tendências em: {', '.join(topicos_tendencia)}, e o público-alvo: {publico_alvo},\n",
        "        sua tarefa é analisar essas informações de forma integrada para identificar:\n",
        "\n",
        "        1. As principais estratégias e táticas dos concorrentes e como elas se alinham ou divergem das tendências de especialistas.\n",
        "        2. As tendências mais relevantes identificadas por especialistas e como elas ressoam com as necessidades e comportamentos do público-alvo.\n",
        "        3. Oportunidades de inovação e diferenciação que surgem da análise da concorrência, das tendências de especialistas e das necessidades do público.\n",
        "        4. Possíveis lacunas no mercado que os concorrentes não estão explorando e que podem ser relevantes para o público-alvo, à luz das tendências.\n",
        "        5. Riscos ou desafios potenciais identificados nas estratégias dos concorrentes ou nas tendências do mercado.\n",
        "\n",
        "        Seja estratégico e orientado para a ação, fornecendo insights que um empreendedor pode usar para tomar decisões informadas e desenvolver um plano de ação eficaz.\n",
        "        \"\"\",\n",
        "        description=\"Agente que integra informações de busca sobre concorrentes, tendências e público-alvo para gerar insights estratégicos\",\n",
        "        tools=[] # O planejador não precisa de ferramentas externas no momento\n",
        "    )\n",
        "\n",
        "    entrada_do_agente_planejador = f\"\"\"\n",
        "    Resultados da busca: {resultados_busca}\n",
        "    Tópicos de tendência pesquisados: {', '.join(topicos_tendencia)}\n",
        "    Informações sobre o público-alvo: {publico_alvo}\n",
        "    \"\"\"\n",
        "\n",
        "    plano_de_analise_integrado = call_agent(planejador, entrada_do_agente_planejador)\n",
        "    return plano_de_analise_integrado"
      ],
      "metadata": {
        "id": "y3VO1uo5_ghO"
      },
      "execution_count": 67,
      "outputs": []
    },
    {
      "cell_type": "code",
      "source": [
        "######################################\n",
        "# --- Agente 3: Relatórios --- #\n",
        "######################################\n",
        "def agente_relatorio(topicos_tendencia, plano_de_analise, concorrentes):\n",
        "    relatorio = Agent(\n",
        "        name=\"agente_relatorio\",\n",
        "        model=\"gemini-2.0-flash\",\n",
        "        instruction=f\"\"\"\n",
        "        Você é um consultor estratégico de negócios com experiência em apresentar análises de mercado de forma clara e impactante.\n",
        "        Com base na análise integrada fornecida sobre as estratégias de concorrentes ({', '.join(concorrentes)}) e as tendências em: {', '.join(topicos_tendencia)},\n",
        "        sua tarefa é formatar essas informações em um relatório estratégico conciso e acionável para um empreendedor.\n",
        "\n",
        "        O relatório deve incluir as seguintes seções principais:\n",
        "\n",
        "        1.  **Visão Geral das Estratégias da Concorrência:** Resuma as principais abordagens e táticas observadas nos concorrentes. Destaque pontos fortes e fracos aparentes.\n",
        "        2.  **Principais Tendências e Implicações:** Apresente as tendências mais relevantes identificadas por especialistas e discuta suas potenciais implicações para o mercado e para o negócio do empreendedor.\n",
        "        3.  **Oportunidades e Lacunas:** Identifique oportunidades de inovação e diferenciação que surgem da análise, bem como possíveis lacunas que os concorrentes não estão explorando.\n",
        "        4.  **Recomendações Estratégicas:** Forneça recomendações práticas e acionáveis para o empreendedor, com base nos insights gerados. Estas devem ser específicas e relevantes para o contexto do mercado analisado.\n",
        "\n",
        "        Use uma linguagem profissional, clara e objetiva. Organize o relatório de forma lógica, com títulos e subtítulos para facilitar a leitura e a compreensão.\n",
        "        \"\"\",\n",
        "        description=\"Agente que formata a análise estratégica em um relatório acionável para empreendedores\",\n",
        "        tools=[] # O agente de relatório não precisa de ferramentas externas no momento\n",
        "    )\n",
        "\n",
        "    entrada_do_agente_relatorio = f\"\"\"\n",
        "    Análise estratégica gerada: {plano_de_analise}\n",
        "    Tópicos de tendência analisados: {', '.join(topicos_tendencia)}\n",
        "    Concorrentes analisados: {', '.join(concorrentes)}\n",
        "    \"\"\"\n",
        "\n",
        "    relatorio_final = call_agent(relatorio, entrada_do_agente_relatorio)\n",
        "    return relatorio_final"
      ],
      "metadata": {
        "id": "uOqlg2TRLVh1"
      },
      "execution_count": 68,
      "outputs": []
    },
    {
      "cell_type": "code",
      "source": [
        "##########################################\n",
        "# --- Agente 4: Revisor de Qualidade --- #\n",
        "##########################################\n",
        "def agente_revisor(topicos_tendencia, plano_de_analise, relatorio_final, concorrentes):\n",
        "    revisor = Agent(\n",
        "        name=\"agente_revisor\",\n",
        "        model=\"gemini-2.0-flash\",\n",
        "        instruction=f\"\"\"\n",
        "        Você é um editor e revisor de conteúdo estratégico com experiência em relatórios de análise de mercado.\n",
        "        Sua tarefa é revisar o relatório estratégico abaixo, que analisa as estratégias de concorrentes ({', '.join(concorrentes)}) e as tendências em: {', '.join(topicos_tendencia)},\n",
        "        para garantir sua clareza, concisão, relevância e tom profissional.\n",
        "\n",
        "        Verifique se o relatório:\n",
        "\n",
        "        1.  Apresenta uma visão clara das estratégias da concorrência.\n",
        "        2.  Destaca as principais tendências e suas implicações de forma compreensível.\n",
        "        3.  Identifica oportunidades e lacunas de maneira lógica e fundamentada.\n",
        "        4.  Fornece recomendações estratégicas que são práticas e relevantes para um empreendedor.\n",
        "        5.  Utiliza uma linguagem profissional e objetiva, evitando jargões excessivos.\n",
        "        6.  Está bem organizado e fácil de ler.\n",
        "\n",
        "        Se o relatório estiver bom e pronto para ser apresentado, responda apenas 'O relatório está ótimo e pronto para apresentação!'.\n",
        "        Caso haja problemas ou sugestões de melhoria, aponte-os de forma clara e construtiva.\n",
        "        \"\"\",\n",
        "        description=\"Agente revisor de relatórios de análise estratégica para empreendedores\",\n",
        "        tools=[] # O agente revisor não precisa de ferramentas externas no momento\n",
        "    )\n",
        "\n",
        "    entrada_do_agente_revisor = f\"\"\"\n",
        "    Relatório a ser revisado: {relatorio_final}\n",
        "    Análise estratégica que gerou o relatório: {plano_de_analise}\n",
        "    Tópicos de tendência analisados: {', '.join(topicos_tendencia)}\n",
        "    Concorrentes analisados: {', '.join(concorrentes)}\n",
        "    \"\"\"\n",
        "\n",
        "    texto_revisado = call_agent(revisor, entrada_do_agente_revisor)\n",
        "    return texto_revisado"
      ],
      "metadata": {
        "id": "_aTb1SdkLeT6"
      },
      "execution_count": 69,
      "outputs": []
    },
    {
      "cell_type": "code",
      "source": [
        "topico = input(\"❓ Por favor, digite o mercado sobre o qual você quer criar o relatório de tendências: \")\n",
        "\n",
        "# Inserir lógica do sistema de agentes ################################################\n",
        "if not concorrentes and not topicos_tendencia and not publico_alvo and not fontes_especialistas: print(\"Você não configurou as informações necessárias para a busca!\")\n",
        "else:\n",
        "  print(\"🚀 Iniciando a análise abrangente de mercado 🚀\")\n",
        "\n",
        "  resultados_busca = agente_buscador(concorrentes, topicos_tendencia, publico_alvo, fontes_especialistas, data_de_hoje)\n",
        "  print(\"\\n--- 📝 Resultado do Agente 1 (Buscador) ---\\n\")\n",
        "  display(to_markdown(resultados_busca))\n",
        "  print(\"--------------------------------------------------------------\")\n",
        "\n",
        "  plano_de_analise = agente_planejador(topicos_tendencia, resultados_busca, publico_alvo)\n",
        "  print(\"\\n--- 📝 Resultado do Agente 2 (Planejador) ---\\n\")\n",
        "  display(to_markdown(plano_de_analise))\n",
        "  print(\"--------------------------------------------------------------\")\n",
        "\n",
        "  relatorio_final = agente_relatorio(topicos_tendencia, plano_de_analise, concorrentes)\n",
        "  print(\"\\n--- 📝 Resultado do Agente 3 (Relatório) ---\\n\")\n",
        "  display(to_markdown(relatorio_final))\n",
        "  print(\"--------------------------------------------------------------\")\n",
        "\n",
        "  post_final = agente_revisor(topicos_tendencia, plano_de_analise, relatorio_final, concorrentes)\n",
        "  print(\"\\n--- 📝 Resultado do Agente 4 (Revisor) ---\\n\")\n",
        "  display(to_markdown(post_final))\n",
        "  print(\"--------------------------------------------------------------\")"
      ],
      "metadata": {
        "id": "6xzI6LKzxxnN"
      },
      "execution_count": null,
      "outputs": []
    }
  ]
}